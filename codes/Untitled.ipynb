{
 "cells": [
  {
   "cell_type": "code",
   "execution_count": 101,
   "metadata": {},
   "outputs": [],
   "source": [
    "import pandas as pd\n",
    "import numpy as np\n",
    "import os\n",
    "\n",
    "val_frac=0.1\n",
    "shift=2"
   ]
  },
  {
   "cell_type": "code",
   "execution_count": 102,
   "metadata": {},
   "outputs": [],
   "source": [
    "a=pd.read_csv(os.path.join('..','data','rare_events.csv'))"
   ]
  },
  {
   "cell_type": "code",
   "execution_count": 103,
   "metadata": {},
   "outputs": [],
   "source": [
    "a['time']=pd.to_datetime(a['time'])\n",
    "a.columns=list(a.columns[:-1])+['target']\n",
    "a=a.sort_values(by='time')\n",
    "\n",
    "a['shifted_target']=0\n",
    "for x in range(a.shape[0]):\n",
    "    if a['target'].iloc[x]==1:\n",
    "        a['shifted_target'].iloc[x-shift:x]=1\n",
    "\n",
    "a.drop(a[a['target']==1].index,inplace=True)\n",
    "a.drop(['time','target'],axis=1,inplace=True)\n",
    "\n",
    "X=a[a.columns[:-1]].values\n",
    "y=a['shifted_target'].values\n",
    "\n",
    "def make_temporal_features(X,y,timesteps):\n",
    "    temporal_X=[]\n",
    "    temporal_y=[]\n",
    "    for x in range(X.shape[0]-timesteps+1):\n",
    "        temporal_X.append(X[x:x+timesteps])\n",
    "        temporal_y.append(y[x+timesteps-1])\n",
    "    return np.asarray(temporal_X),np.asarray(temporal_y)\n",
    "\n",
    "X,y=make_temporal_features(X,y,5)\n",
    "\n",
    "val_size=(int)(val_frac*X.shape[0])\n",
    "X_train,y_train=X[:-val_size],y[:-val_size]\n",
    "X_val,Y_val=X[X_train.shape[0]:],y[X_train.shape[0]:]\n",
    "\n",
    "\n",
    "# from sklearn.preprocessing import StandardScaler\n",
    "# sc=StandardScaler()\n",
    "# X_train=sc.fit_transform(X_train)\n",
    "# X_val=sc.transform(X_val)\n"
   ]
  },
  {
   "cell_type": "code",
   "execution_count": 106,
   "metadata": {},
   "outputs": [
    {
     "data": {
      "text/plain": [
       "(38, 5, 61)"
      ]
     },
     "execution_count": 106,
     "metadata": {},
     "output_type": "execute_result"
    }
   ],
   "source": [
    "X_train[y_train==1].shape"
   ]
  },
  {
   "cell_type": "code",
   "execution_count": null,
   "metadata": {},
   "outputs": [],
   "source": []
  },
  {
   "cell_type": "code",
   "execution_count": null,
   "metadata": {},
   "outputs": [],
   "source": []
  },
  {
   "cell_type": "code",
   "execution_count": null,
   "metadata": {},
   "outputs": [],
   "source": []
  },
  {
   "cell_type": "code",
   "execution_count": null,
   "metadata": {},
   "outputs": [],
   "source": []
  },
  {
   "cell_type": "code",
   "execution_count": null,
   "metadata": {},
   "outputs": [],
   "source": []
  }
 ],
 "metadata": {
  "kernelspec": {
   "display_name": "Python 3",
   "language": "python",
   "name": "python3"
  },
  "language_info": {
   "codemirror_mode": {
    "name": "ipython",
    "version": 3
   },
   "file_extension": ".py",
   "mimetype": "text/x-python",
   "name": "python",
   "nbconvert_exporter": "python",
   "pygments_lexer": "ipython3",
   "version": "3.7.3"
  }
 },
 "nbformat": 4,
 "nbformat_minor": 2
}
